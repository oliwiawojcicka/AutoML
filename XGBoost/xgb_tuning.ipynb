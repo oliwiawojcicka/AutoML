{
 "cells": [
  {
   "cell_type": "code",
   "execution_count": 1,
   "id": "27bd50ae",
   "metadata": {},
   "outputs": [
    {
     "name": "stderr",
     "output_type": "stream",
     "text": [
      "/Library/Frameworks/Python.framework/Versions/3.13/lib/python3.13/site-packages/tqdm/auto.py:21: TqdmWarning: IProgress not found. Please update jupyter and ipywidgets. See https://ipywidgets.readthedocs.io/en/stable/user_install.html\n",
      "  from .autonotebook import tqdm as notebook_tqdm\n"
     ]
    }
   ],
   "source": [
    "import pandas as pd\n",
    "from xgboost import XGBClassifier \n",
    "from sklearn.model_selection import train_test_split, RandomizedSearchCV\n",
    "from sklearn.metrics import accuracy_score \n",
    "import optuna\n"
   ]
  },
  {
   "cell_type": "code",
   "execution_count": 2,
   "id": "40aa602b",
   "metadata": {},
   "outputs": [],
   "source": [
    "RS_param_grid = {\n",
    "    \"n_estimators\": [300, 600, 900, 1200],\n",
    "    \"max_depth\": [3, 4, 6, 8],\n",
    "    \"learning_rate\": [0.01, 0.03, 0.1],\n",
    "    \"subsample\": [0.6, 0.8, 1.0],\n",
    "    \"colsample_bytree\": [0.6, 0.8, 1.0],\n",
    "    \"min_child_weight\": [1, 2, 5, 8],\n",
    "    \"gamma\": [0.0, 1.0, 3.0],\n",
    "    \"reg_lambda\": [0.0, 1.0, 5.0, 10.0],\n",
    "    \"reg_alpha\": [0.0, 0.1, 1.0, 5.0],\n",
    "    \"scale_pos_weight\": [1.0, 2.0, 5.0] \n",
    "}"
   ]
  },
  {
   "cell_type": "code",
   "execution_count": 3,
   "id": "cb68890c",
   "metadata": {},
   "outputs": [],
   "source": [
    "xgb = XGBClassifier(random_state=42)"
   ]
  },
  {
   "cell_type": "markdown",
   "id": "d45e538b",
   "metadata": {},
   "source": [
    "# DIABETES"
   ]
  },
  {
   "cell_type": "code",
   "execution_count": null,
   "id": "f72e483a",
   "metadata": {},
   "outputs": [],
   "source": [
    "df_diabetes = pd.read_csv(\"diabetes_transformed.csv\")   \n",
    "\n",
    "X = df_diabetes.drop('diabetes', axis=1)  \n",
    "y = df_diabetes['diabetes']\n",
    "\n",
    "X_train, X_test, y_train, y_test = train_test_split(X, y, test_size=0.2, random_state=42)"
   ]
  },
  {
   "cell_type": "markdown",
   "id": "72187622",
   "metadata": {},
   "source": [
    "## RANDOMIZED SEARCH"
   ]
  },
  {
   "cell_type": "code",
   "execution_count": 17,
   "id": "993053fe",
   "metadata": {},
   "outputs": [
    {
     "name": "stdout",
     "output_type": "stream",
     "text": [
      "Fitting 3 folds for each of 50 candidates, totalling 150 fits\n"
     ]
    },
    {
     "name": "stdout",
     "output_type": "stream",
     "text": [
      "Najlepsze parametry: {'subsample': 0.6, 'scale_pos_weight': 1.0, 'reg_lambda': 5.0, 'reg_alpha': 1.0, 'n_estimators': 1200, 'min_child_weight': 8, 'max_depth': 4, 'learning_rate': 0.01, 'gamma': 0.0, 'colsample_bytree': 0.8}\n",
      "Accuracy (mean): 0.9719\n",
      "Liczba iteracji RandomizedSearchCV: 50\n",
      "Test Accuracy: 0.9730959643946592\n"
     ]
    }
   ],
   "source": [
    "random_search = RandomizedSearchCV(\n",
    "    estimator=xgb,\n",
    "    param_distributions=RS_param_grid,\n",
    "    n_iter=50,  \n",
    "    cv=3,  #\n",
    "    scoring='accuracy', \n",
    "    verbose=1,\n",
    "    random_state=42,\n",
    "    n_jobs=-1 \n",
    ")\n",
    "\n",
    "random_search.fit(X_train, y_train)\n",
    "\n",
    "results = random_search.cv_results_\n",
    "num_iterations = len(results['params']) \n",
    "best_params_random = random_search.best_params_\n",
    "\n",
    "print(\"Najlepsze parametry:\", best_params_random)\n",
    "print(f\"Accuracy (mean): {random_search.best_score_:.4f}\")\n",
    "print(f\"Liczba iteracji RandomizedSearchCV: {num_iterations}\")\n",
    "\n",
    "y_pred = random_search.predict(X_test)\n",
    "print(\"Test Accuracy:\", accuracy_score(y_test, y_pred))"
   ]
  },
  {
   "cell_type": "markdown",
   "id": "53e17e2d",
   "metadata": {},
   "source": [
    "## BAYES SEARCH"
   ]
  },
  {
   "cell_type": "code",
   "execution_count": 18,
   "id": "eee7e51c",
   "metadata": {},
   "outputs": [],
   "source": [
    "from skopt.space import Real, Integer, Categorical\n",
    "\n",
    "search_space = {\n",
    "    \"n_estimators\": Integer(300, 1200),\n",
    "    \"max_depth\": Integer(3, 8),\n",
    "    \"learning_rate\": Real(0.01, 0.1, prior=\"log-uniform\"),\n",
    "    \"subsample\": Real(0.6, 1.0),\n",
    "    \"colsample_bytree\": Real(0.6, 1.0),\n",
    "    \"min_child_weight\": Integer(1, 8),\n",
    "    \"gamma\": Real(0.0, 3.0),\n",
    "    \"reg_lambda\": Real(0.0, 10.0),\n",
    "    \"reg_alpha\": Real(0.0, 5.0),\n",
    "    \"scale_pos_weight\": Real(1.0, 5.0)\n",
    "}"
   ]
  },
  {
   "cell_type": "code",
   "execution_count": 19,
   "id": "5a1195d5",
   "metadata": {},
   "outputs": [
    {
     "name": "stdout",
     "output_type": "stream",
     "text": [
      "Najlepsze parametry: OrderedDict({'colsample_bytree': 0.6707487107534322, 'gamma': 0.7778311189511045, 'learning_rate': 0.010635974318114841, 'max_depth': 5, 'min_child_weight': 6, 'n_estimators': 355, 'reg_alpha': 1.8572271814891825, 'reg_lambda': 2.4096666049396416, 'scale_pos_weight': 1.9723853412464256, 'subsample': 0.6809326594353681})\n",
      "Accuracy (mean): 0.9719\n",
      "Liczba iteracji BayesSearchCV: 60\n",
      "Test accuracy: 0.9729\n"
     ]
    }
   ],
   "source": [
    "from skopt import BayesSearchCV\n",
    "opt = BayesSearchCV(\n",
    "    estimator=xgb,\n",
    "    search_spaces=search_space,\n",
    "    n_iter=60,                \n",
    "    cv=5,\n",
    "    scoring=\"accuracy\",      \n",
    "    n_jobs=-1,\n",
    "    random_state=42,\n",
    "    refit=True,\n",
    "    verbose=0,\n",
    ")\n",
    "\n",
    "opt.fit(X_train, y_train)\n",
    "\n",
    "n_iters_done = len(opt.cv_results_[\"params\"])\n",
    "\n",
    "print(\"Najlepsze parametry:\", opt.best_params_)\n",
    "print(\"Accuracy (mean):\", round(opt.best_score_, 4))\n",
    "print(\"Liczba iteracji BayesSearchCV:\", n_iters_done)\n",
    "\n",
    "y_pred = opt.predict(X_test)\n",
    "test_acc = accuracy_score(y_test, y_pred)\n",
    "print(\"Test accuracy:\", round(test_acc, 4))"
   ]
  },
  {
   "cell_type": "markdown",
   "id": "4a1207aa",
   "metadata": {},
   "source": [
    "# LOAN"
   ]
  },
  {
   "cell_type": "code",
   "execution_count": null,
   "id": "5df49f63",
   "metadata": {},
   "outputs": [
    {
     "ename": "KeyError",
     "evalue": "\"['loan_status'] not found in axis\"",
     "output_type": "error",
     "traceback": [
      "\u001b[31m---------------------------------------------------------------------------\u001b[39m",
      "\u001b[31mKeyError\u001b[39m                                  Traceback (most recent call last)",
      "\u001b[36mCell\u001b[39m\u001b[36m \u001b[39m\u001b[32mIn[4]\u001b[39m\u001b[32m, line 3\u001b[39m\n\u001b[32m      1\u001b[39m df_loan = pd.read_csv(\u001b[33m\"\u001b[39m\u001b[33mloan_transformed.csv\u001b[39m\u001b[33m\"\u001b[39m)   \n\u001b[32m----> \u001b[39m\u001b[32m3\u001b[39m X = \u001b[43mdf_loan\u001b[49m\u001b[43m.\u001b[49m\u001b[43mdrop\u001b[49m\u001b[43m(\u001b[49m\u001b[33;43m'\u001b[39;49m\u001b[33;43mloan_status\u001b[39;49m\u001b[33;43m'\u001b[39;49m\u001b[43m,\u001b[49m\u001b[43m \u001b[49m\u001b[43maxis\u001b[49m\u001b[43m=\u001b[49m\u001b[32;43m1\u001b[39;49m\u001b[43m)\u001b[49m  \n\u001b[32m      4\u001b[39m y = df_loan[\u001b[33m'\u001b[39m\u001b[33mloan_status\u001b[39m\u001b[33m'\u001b[39m]\n\u001b[32m      6\u001b[39m X_train, X_test, y_train, y_test = train_test_split(X, y, test_size=\u001b[32m0.2\u001b[39m, random_state=\u001b[32m42\u001b[39m)\n",
      "\u001b[36mFile \u001b[39m\u001b[32m/Library/Frameworks/Python.framework/Versions/3.13/lib/python3.13/site-packages/pandas/core/frame.py:5603\u001b[39m, in \u001b[36mDataFrame.drop\u001b[39m\u001b[34m(self, labels, axis, index, columns, level, inplace, errors)\u001b[39m\n\u001b[32m   5455\u001b[39m \u001b[38;5;28;01mdef\u001b[39;00m\u001b[38;5;250m \u001b[39m\u001b[34mdrop\u001b[39m(\n\u001b[32m   5456\u001b[39m     \u001b[38;5;28mself\u001b[39m,\n\u001b[32m   5457\u001b[39m     labels: IndexLabel | \u001b[38;5;28;01mNone\u001b[39;00m = \u001b[38;5;28;01mNone\u001b[39;00m,\n\u001b[32m   (...)\u001b[39m\u001b[32m   5464\u001b[39m     errors: IgnoreRaise = \u001b[33m\"\u001b[39m\u001b[33mraise\u001b[39m\u001b[33m\"\u001b[39m,\n\u001b[32m   5465\u001b[39m ) -> DataFrame | \u001b[38;5;28;01mNone\u001b[39;00m:\n\u001b[32m   5466\u001b[39m \u001b[38;5;250m    \u001b[39m\u001b[33;03m\"\"\"\u001b[39;00m\n\u001b[32m   5467\u001b[39m \u001b[33;03m    Drop specified labels from rows or columns.\u001b[39;00m\n\u001b[32m   5468\u001b[39m \n\u001b[32m   (...)\u001b[39m\u001b[32m   5601\u001b[39m \u001b[33;03m            weight  1.0     0.8\u001b[39;00m\n\u001b[32m   5602\u001b[39m \u001b[33;03m    \"\"\"\u001b[39;00m\n\u001b[32m-> \u001b[39m\u001b[32m5603\u001b[39m     \u001b[38;5;28;01mreturn\u001b[39;00m \u001b[38;5;28;43msuper\u001b[39;49m\u001b[43m(\u001b[49m\u001b[43m)\u001b[49m\u001b[43m.\u001b[49m\u001b[43mdrop\u001b[49m\u001b[43m(\u001b[49m\n\u001b[32m   5604\u001b[39m \u001b[43m        \u001b[49m\u001b[43mlabels\u001b[49m\u001b[43m=\u001b[49m\u001b[43mlabels\u001b[49m\u001b[43m,\u001b[49m\n\u001b[32m   5605\u001b[39m \u001b[43m        \u001b[49m\u001b[43maxis\u001b[49m\u001b[43m=\u001b[49m\u001b[43maxis\u001b[49m\u001b[43m,\u001b[49m\n\u001b[32m   5606\u001b[39m \u001b[43m        \u001b[49m\u001b[43mindex\u001b[49m\u001b[43m=\u001b[49m\u001b[43mindex\u001b[49m\u001b[43m,\u001b[49m\n\u001b[32m   5607\u001b[39m \u001b[43m        \u001b[49m\u001b[43mcolumns\u001b[49m\u001b[43m=\u001b[49m\u001b[43mcolumns\u001b[49m\u001b[43m,\u001b[49m\n\u001b[32m   5608\u001b[39m \u001b[43m        \u001b[49m\u001b[43mlevel\u001b[49m\u001b[43m=\u001b[49m\u001b[43mlevel\u001b[49m\u001b[43m,\u001b[49m\n\u001b[32m   5609\u001b[39m \u001b[43m        \u001b[49m\u001b[43minplace\u001b[49m\u001b[43m=\u001b[49m\u001b[43minplace\u001b[49m\u001b[43m,\u001b[49m\n\u001b[32m   5610\u001b[39m \u001b[43m        \u001b[49m\u001b[43merrors\u001b[49m\u001b[43m=\u001b[49m\u001b[43merrors\u001b[49m\u001b[43m,\u001b[49m\n\u001b[32m   5611\u001b[39m \u001b[43m    \u001b[49m\u001b[43m)\u001b[49m\n",
      "\u001b[36mFile \u001b[39m\u001b[32m/Library/Frameworks/Python.framework/Versions/3.13/lib/python3.13/site-packages/pandas/core/generic.py:4810\u001b[39m, in \u001b[36mNDFrame.drop\u001b[39m\u001b[34m(self, labels, axis, index, columns, level, inplace, errors)\u001b[39m\n\u001b[32m   4808\u001b[39m \u001b[38;5;28;01mfor\u001b[39;00m axis, labels \u001b[38;5;129;01min\u001b[39;00m axes.items():\n\u001b[32m   4809\u001b[39m     \u001b[38;5;28;01mif\u001b[39;00m labels \u001b[38;5;129;01mis\u001b[39;00m \u001b[38;5;129;01mnot\u001b[39;00m \u001b[38;5;28;01mNone\u001b[39;00m:\n\u001b[32m-> \u001b[39m\u001b[32m4810\u001b[39m         obj = \u001b[43mobj\u001b[49m\u001b[43m.\u001b[49m\u001b[43m_drop_axis\u001b[49m\u001b[43m(\u001b[49m\u001b[43mlabels\u001b[49m\u001b[43m,\u001b[49m\u001b[43m \u001b[49m\u001b[43maxis\u001b[49m\u001b[43m,\u001b[49m\u001b[43m \u001b[49m\u001b[43mlevel\u001b[49m\u001b[43m=\u001b[49m\u001b[43mlevel\u001b[49m\u001b[43m,\u001b[49m\u001b[43m \u001b[49m\u001b[43merrors\u001b[49m\u001b[43m=\u001b[49m\u001b[43merrors\u001b[49m\u001b[43m)\u001b[49m\n\u001b[32m   4812\u001b[39m \u001b[38;5;28;01mif\u001b[39;00m inplace:\n\u001b[32m   4813\u001b[39m     \u001b[38;5;28mself\u001b[39m._update_inplace(obj)\n",
      "\u001b[36mFile \u001b[39m\u001b[32m/Library/Frameworks/Python.framework/Versions/3.13/lib/python3.13/site-packages/pandas/core/generic.py:4852\u001b[39m, in \u001b[36mNDFrame._drop_axis\u001b[39m\u001b[34m(self, labels, axis, level, errors, only_slice)\u001b[39m\n\u001b[32m   4850\u001b[39m         new_axis = axis.drop(labels, level=level, errors=errors)\n\u001b[32m   4851\u001b[39m     \u001b[38;5;28;01melse\u001b[39;00m:\n\u001b[32m-> \u001b[39m\u001b[32m4852\u001b[39m         new_axis = \u001b[43maxis\u001b[49m\u001b[43m.\u001b[49m\u001b[43mdrop\u001b[49m\u001b[43m(\u001b[49m\u001b[43mlabels\u001b[49m\u001b[43m,\u001b[49m\u001b[43m \u001b[49m\u001b[43merrors\u001b[49m\u001b[43m=\u001b[49m\u001b[43merrors\u001b[49m\u001b[43m)\u001b[49m\n\u001b[32m   4853\u001b[39m     indexer = axis.get_indexer(new_axis)\n\u001b[32m   4855\u001b[39m \u001b[38;5;66;03m# Case for non-unique axis\u001b[39;00m\n\u001b[32m   4856\u001b[39m \u001b[38;5;28;01melse\u001b[39;00m:\n",
      "\u001b[36mFile \u001b[39m\u001b[32m/Library/Frameworks/Python.framework/Versions/3.13/lib/python3.13/site-packages/pandas/core/indexes/base.py:7136\u001b[39m, in \u001b[36mIndex.drop\u001b[39m\u001b[34m(self, labels, errors)\u001b[39m\n\u001b[32m   7134\u001b[39m \u001b[38;5;28;01mif\u001b[39;00m mask.any():\n\u001b[32m   7135\u001b[39m     \u001b[38;5;28;01mif\u001b[39;00m errors != \u001b[33m\"\u001b[39m\u001b[33mignore\u001b[39m\u001b[33m\"\u001b[39m:\n\u001b[32m-> \u001b[39m\u001b[32m7136\u001b[39m         \u001b[38;5;28;01mraise\u001b[39;00m \u001b[38;5;167;01mKeyError\u001b[39;00m(\u001b[33mf\u001b[39m\u001b[33m\"\u001b[39m\u001b[38;5;132;01m{\u001b[39;00mlabels[mask].tolist()\u001b[38;5;132;01m}\u001b[39;00m\u001b[33m not found in axis\u001b[39m\u001b[33m\"\u001b[39m)\n\u001b[32m   7137\u001b[39m     indexer = indexer[~mask]\n\u001b[32m   7138\u001b[39m \u001b[38;5;28;01mreturn\u001b[39;00m \u001b[38;5;28mself\u001b[39m.delete(indexer)\n",
      "\u001b[31mKeyError\u001b[39m: \"['loan_status'] not found in axis\""
     ]
    }
   ],
   "source": [
    "# df_loan = pd.read_csv(\"loan_transformed.csv\")   \n",
    "\n",
    "# X = df_loan.drop('loan_status', axis=1)  \n",
    "# y = df_loan['loan_status']\n",
    "\n",
    "# X_train, X_test, y_train, y_test = train_test_split(X, y, test_size=0.2, random_state=42)"
   ]
  },
  {
   "cell_type": "markdown",
   "id": "64b8755b",
   "metadata": {},
   "source": [
    "## RANDOMIZED SEARCH"
   ]
  },
  {
   "cell_type": "code",
   "execution_count": null,
   "id": "67858e2f",
   "metadata": {},
   "outputs": [],
   "source": [
    "# random_search = RandomizedSearchCV(\n",
    "#     estimator=xgb,\n",
    "#     param_distributions=RS_param_grid,\n",
    "#     n_iter=50,  \n",
    "#     cv=3,  #\n",
    "#     scoring='accuracy', \n",
    "#     verbose=1,\n",
    "#     random_state=42,\n",
    "#     n_jobs=-1 \n",
    "# )\n",
    "\n",
    "# random_search.fit(X_train, y_train)\n",
    "\n",
    "# results = random_search.cv_results_\n",
    "# num_iterations = len(results['params']) \n",
    "# best_params_random = random_search.best_params_\n",
    "\n",
    "# print(\"Najlepsze parametry:\", best_params_random)\n",
    "# print(f\"Accuracy (mean): {random_search.best_score_:.4f}\")\n",
    "# print(f\"Liczba iteracji RandomizedSearchCV: {num_iterations}\")\n",
    "\n",
    "# y_pred = random_search.predict(X_test)\n",
    "# print(\"Test Accuracy:\", accuracy_score(y_test, y_pred))"
   ]
  },
  {
   "cell_type": "markdown",
   "id": "5b4e56d2",
   "metadata": {},
   "source": [
    "## BAYES SEARCH"
   ]
  },
  {
   "cell_type": "code",
   "execution_count": null,
   "id": "6ee62828",
   "metadata": {},
   "outputs": [],
   "source": [
    "# from skopt.space import Real, Integer, Categorical\n",
    "\n",
    "# search_space = {\n",
    "#     \"n_estimators\": Integer(300, 1200),\n",
    "#     \"max_depth\": Integer(3, 8),\n",
    "#     \"learning_rate\": Real(0.01, 0.1, prior=\"log-uniform\"),\n",
    "#     \"subsample\": Real(0.6, 1.0),\n",
    "#     \"colsample_bytree\": Real(0.6, 1.0),\n",
    "#     \"min_child_weight\": Integer(1, 8),\n",
    "#     \"gamma\": Real(0.0, 3.0),\n",
    "#     \"reg_lambda\": Real(0.0, 10.0),\n",
    "#     \"reg_alpha\": Real(0.0, 5.0),\n",
    "#     \"scale_pos_weight\": Real(1.0, 5.0)\n",
    "# }"
   ]
  },
  {
   "cell_type": "code",
   "execution_count": null,
   "id": "320e3d5d",
   "metadata": {},
   "outputs": [],
   "source": [
    "# from skopt import BayesSearchCV\n",
    "# opt = BayesSearchCV(\n",
    "#     estimator=xgb,\n",
    "#     search_spaces=search_space,\n",
    "#     n_iter=60,                \n",
    "#     cv=5,\n",
    "#     scoring=\"accuracy\",      \n",
    "#     n_jobs=-1,\n",
    "#     random_state=42,\n",
    "#     refit=True,\n",
    "#     verbose=0,\n",
    "# )\n",
    "\n",
    "# opt.fit(X_train, y_train)\n",
    "\n",
    "# n_iters_done = len(opt.cv_results_[\"params\"])\n",
    "\n",
    "# print(\"Najlepsze parametry:\", opt.best_params_)\n",
    "# print(\"Accuracy (mean):\", round(opt.best_score_, 4))\n",
    "# print(\"Liczba iteracji BayesSearchCV:\", n_iters_done)\n",
    "\n",
    "# y_pred = opt.predict(X_test)\n",
    "# test_acc = accuracy_score(y_test, y_pred)\n",
    "# print(\"Test accuracy:\", round(test_acc, 4))"
   ]
  },
  {
   "cell_type": "markdown",
   "id": "a66be58e",
   "metadata": {},
   "source": [
    "# DEPRESSION"
   ]
  },
  {
   "cell_type": "code",
   "execution_count": 6,
   "id": "008c61f5",
   "metadata": {},
   "outputs": [],
   "source": [
    "df_depression = pd.read_csv(\"depression_transformed.csv\")   \n",
    "\n",
    "X = df_depression.drop('History of Mental Illness', axis=1)  \n",
    "y = df_depression['History of Mental Illness']\n",
    "\n",
    "X_train, X_test, y_train, y_test = train_test_split(X, y, test_size=0.2, random_state=42)"
   ]
  },
  {
   "cell_type": "markdown",
   "id": "d19641d0",
   "metadata": {},
   "source": [
    "## RANDOMIZED SEARCH"
   ]
  },
  {
   "cell_type": "code",
   "execution_count": 7,
   "id": "62e6ff62",
   "metadata": {},
   "outputs": [
    {
     "name": "stdout",
     "output_type": "stream",
     "text": [
      "Fitting 3 folds for each of 50 candidates, totalling 150 fits\n",
      "Najlepsze parametry: {'subsample': 1.0, 'scale_pos_weight': 1.0, 'reg_lambda': 0.0, 'reg_alpha': 1.0, 'n_estimators': 300, 'min_child_weight': 1, 'max_depth': 4, 'learning_rate': 0.01, 'gamma': 0.0, 'colsample_bytree': 1.0}\n",
      "Accuracy (mean): 0.6963\n",
      "Liczba iteracji RandomizedSearchCV: 50\n",
      "Test Accuracy: 0.6944800251347367\n"
     ]
    }
   ],
   "source": [
    "random_search = RandomizedSearchCV(\n",
    "    estimator=xgb,\n",
    "    param_distributions=RS_param_grid,\n",
    "    n_iter=50,  \n",
    "    cv=3,  #\n",
    "    scoring='accuracy', \n",
    "    verbose=1,\n",
    "    random_state=42,\n",
    "    n_jobs=-1 \n",
    ")\n",
    "\n",
    "random_search.fit(X_train, y_train)\n",
    "\n",
    "results = random_search.cv_results_\n",
    "num_iterations = len(results['params']) \n",
    "best_params_random = random_search.best_params_\n",
    "\n",
    "print(\"Najlepsze parametry:\", best_params_random)\n",
    "print(f\"Accuracy (mean): {random_search.best_score_:.4f}\")\n",
    "print(f\"Liczba iteracji RandomizedSearchCV: {num_iterations}\")\n",
    "\n",
    "y_pred = random_search.predict(X_test)\n",
    "print(\"Test Accuracy:\", accuracy_score(y_test, y_pred))"
   ]
  },
  {
   "cell_type": "markdown",
   "id": "316f2c9e",
   "metadata": {},
   "source": [
    "## BAYES SEARCH"
   ]
  },
  {
   "cell_type": "code",
   "execution_count": 8,
   "id": "c79f3897",
   "metadata": {},
   "outputs": [],
   "source": [
    "from skopt.space import Real, Integer, Categorical\n",
    "\n",
    "search_space = {\n",
    "    \"n_estimators\": Integer(300, 1200),\n",
    "    \"max_depth\": Integer(3, 8),\n",
    "    \"learning_rate\": Real(0.01, 0.1, prior=\"log-uniform\"),\n",
    "    \"subsample\": Real(0.6, 1.0),\n",
    "    \"colsample_bytree\": Real(0.6, 1.0),\n",
    "    \"min_child_weight\": Integer(1, 8),\n",
    "    \"gamma\": Real(0.0, 3.0),\n",
    "    \"reg_lambda\": Real(0.0, 10.0),\n",
    "    \"reg_alpha\": Real(0.0, 5.0),\n",
    "    \"scale_pos_weight\": Real(1.0, 5.0)\n",
    "}"
   ]
  },
  {
   "cell_type": "code",
   "execution_count": null,
   "id": "ed61abcb",
   "metadata": {},
   "outputs": [],
   "source": [
    "from skopt import BayesSearchCV\n",
    "opt = BayesSearchCV(\n",
    "    estimator=xgb,\n",
    "    search_spaces=search_space,\n",
    "    n_iter=60,                \n",
    "    cv=5,\n",
    "    scoring=\"accuracy\",      \n",
    "    n_jobs=-1,\n",
    "    random_state=42,\n",
    "    refit=True,\n",
    "    verbose=0,\n",
    ")\n",
    "\n",
    "opt.fit(X_train, y_train)\n",
    "\n",
    "n_iters_done = len(opt.cv_results_[\"params\"])\n",
    "\n",
    "print(\"Najlepsze parametry:\", opt.best_params_)\n",
    "print(\"Accuracy (mean):\", round(opt.best_score_, 4))\n",
    "print(\"Liczba iteracji BayesSearchCV:\", n_iters_done)\n",
    "\n",
    "y_pred = opt.predict(X_test)\n",
    "test_acc = accuracy_score(y_test, y_pred)\n",
    "print(\"Test accuracy:\", round(test_acc, 4))"
   ]
  }
 ],
 "metadata": {
  "kernelspec": {
   "display_name": "Python 3",
   "language": "python",
   "name": "python3"
  },
  "language_info": {
   "codemirror_mode": {
    "name": "ipython",
    "version": 3
   },
   "file_extension": ".py",
   "mimetype": "text/x-python",
   "name": "python",
   "nbconvert_exporter": "python",
   "pygments_lexer": "ipython3",
   "version": "3.13.5"
  }
 },
 "nbformat": 4,
 "nbformat_minor": 5
}
