{
 "cells": [
  {
   "cell_type": "code",
   "execution_count": 44,
   "id": "9024e8bd",
   "metadata": {},
   "outputs": [],
   "source": [
    "import numpy as np\n",
    "import pandas as pd\n",
    "from datetime import datetime\n",
    "from scipy.stats.mstats import winsorize\n",
    "\n",
    "from sklearn.model_selection import train_test_split\n",
    "from sklearn.preprocessing import StandardScaler, OneHotEncoder, OrdinalEncoder\n",
    "from sklearn.compose import ColumnTransformer\n",
    "from sklearn.pipeline import Pipeline\n",
    "from sklearn.impute import SimpleImputer"
   ]
  },
  {
   "cell_type": "markdown",
   "id": "66fa5c7f",
   "metadata": {},
   "source": [
    "## Opis kolumn\n",
    "- id - identyfikator klienta/wniosku\n",
    "- address_state - stan zamieszkania\n",
    "- application_type - typ aplikacji **(zawiera tylko wartość INDIVIDUAL)**\n",
    "- emp_length - długość zatrudnienia w latach\n",
    "- emp_title - stanowisko prcay\n",
    "- grade - ocena kredytowa **(A-G im wyższa tym lepiej)**\n",
    "- home_ownership - status posiadania domu **(RENT, MORTAGE, OWN, OTHER, NONE)**\n",
    "- issue_date - data wydania pożyczki\n",
    "- last_credit_pull_date - data ostatniego sprawdzenia historii kredytowej\n",
    "- last_payment_date - data ostatniej wpłaty na pożyczkę\n",
    "- loan_status - status pożyczki **(Fully_Paid, Charged Off, Current)**\n",
    "- next_payment_date - planowana data następnej wpłaty\n",
    "- member_id - identyfikator klienta\n",
    "- purpose - cel pożyczki **(13 kategorii plus other)**\n",
    "- sub_grade - podkategoria oceny kredytowej **(bardziej dokładna niż grade, typu A1, A2, ...)**\n",
    "- term - okres spłaty pożyczki **(36 months, 60 months)**\n",
    "- verification_status - status weryfikacji dochodu klienta **(Not Verified, Verified, Source Verified)**\n",
    "- annual_income - roczny dochód klienta\n",
    "- dti (dent-to-income-ratio) - wskaźnik zadłużenia do dochodu\n",
    "- installment - miesięczna rata\n",
    "- int_rate - oprocentowanie\n",
    "- loan_amount - kwota pożyczki\n",
    "- total_acc - łączna liczba kont kredytowych klienta'\n",
    "- total_payment - łączna suma spłat dokonanych przez klienta"
   ]
  },
  {
   "cell_type": "markdown",
   "id": "44edd81c",
   "metadata": {},
   "source": [
    "### Wczytanie danych"
   ]
  },
  {
   "cell_type": "code",
   "execution_count": 45,
   "id": "d6644486",
   "metadata": {},
   "outputs": [],
   "source": [
    "data = pd.read_csv(\"loan_data.csv\")"
   ]
  },
  {
   "cell_type": "markdown",
   "id": "1ceebaac",
   "metadata": {},
   "source": [
    "### Analiza emp_title"
   ]
  },
  {
   "cell_type": "code",
   "execution_count": 46,
   "id": "7a59a231",
   "metadata": {},
   "outputs": [
    {
     "name": "stdout",
     "output_type": "stream",
     "text": [
      "Unikalne emp_title: 28525\n",
      "Braki emp_title: 1438\n"
     ]
    }
   ],
   "source": [
    "print(\"Unikalne emp_title:\", data['emp_title'].nunique())\n",
    "print(\"Braki emp_title:\", data['emp_title'].isnull().sum())"
   ]
  },
  {
   "cell_type": "code",
   "execution_count": 47,
   "id": "fd0b6a21",
   "metadata": {},
   "outputs": [],
   "source": [
    "data['is_employed'] = data['emp_title'].notnull().astype(int)\n",
    "data.drop(columns=['emp_title'], inplace=True)"
   ]
  },
  {
   "cell_type": "markdown",
   "id": "fa3766d1",
   "metadata": {},
   "source": [
    "Ze względu na dużą różnorodność wykorzystujemy jedynie informację o tym czy osoba jest zatrudniona."
   ]
  },
  {
   "cell_type": "markdown",
   "id": "1d7fa77a",
   "metadata": {},
   "source": [
    "### Daty"
   ]
  },
  {
   "cell_type": "code",
   "execution_count": 48,
   "id": "66f5a1a6",
   "metadata": {},
   "outputs": [
    {
     "name": "stderr",
     "output_type": "stream",
     "text": [
      "C:\\Users\\alapr\\AppData\\Local\\Temp\\ipykernel_16900\\2503067782.py:1: UserWarning: Parsing dates in %d-%m-%Y format when dayfirst=False (the default) was specified. Pass `dayfirst=True` or specify a format to silence this warning.\n",
      "  data['last_credit_pull_date'] = pd.to_datetime(data['last_credit_pull_date'], errors='coerce')\n"
     ]
    }
   ],
   "source": [
    "data['last_credit_pull_date'] = pd.to_datetime(data['last_credit_pull_date'], errors='coerce')\n",
    "data['issue_date'] = pd.to_datetime(data['issue_date'], errors='coerce')\n",
    "data['date_diff'] = (data['last_credit_pull_date'] - data['issue_date']).dt.days\n",
    "for c in ['last_credit_pull_date','issue_date','last_payment_date','next_payment_date']:\n",
    "    if c in data.columns:\n",
    "        data.drop(columns=[c], inplace=True)"
   ]
  },
  {
   "cell_type": "markdown",
   "id": "2a7e3d83",
   "metadata": {},
   "source": [
    "### Mapowanie zmiennych związanych z położeniem geograficznym\n",
    "location, wealth, law_regulations"
   ]
  },
  {
   "cell_type": "code",
   "execution_count": 49,
   "id": "d8b40319",
   "metadata": {},
   "outputs": [],
   "source": [
    "mapping = {\n",
    "        'położenie': {\n",
    "            'Northeast': ['CT','ME','MA','NH','RI','VT','NJ','NY','PA'],\n",
    "            'Midwest':   ['IL','IN','MI','OH','WI','IA','KS','MN','MO','NE','ND','SD'],\n",
    "            'South':     ['DE','DC','FL','GA','MD','NC','SC','VA','WV','AL','KY','MS','TN','AR','LA','OK','TX'],\n",
    "            'West':      ['AZ','CO','ID','MT','NV','NM','UT','WY','AK','CA','HI','OR','WA']\n",
    "        },\n",
    "        'zamożność': {\n",
    "            'high': ['DC','MD','MA','CA','CO','NJ','WA','AK','VA','NH','UT','HI','CT','MN','NY','RI','DE','NV','IL','TX','AZ','GA','WI','OR','ND','VT','FL','NE','NC','PA','SD','IA','MI','IN','OH','SC','KS','MO','TN','ME'],\n",
    "            'med':  ['NM','ID','LA','OK','MT','KY','AL','WV','AR','MS'],\n",
    "            'low':  ['WY','NM','MS','WV','AR','AL','KY','OK','LA','SC']\n",
    "        },\n",
    "        'prawo_kredytowe': {\n",
    "            'restrictive': ['PA','NY','CA','AZ','HI','IN','IA','KS','MT','NE','NV','NH','NJ','NM','ND','OH','OK','OR','SD','TN','UT','WV','WI','WY'],\n",
    "            'moderate':    ['DE','FL','GA','ID','IL','KY','ME','MD','MA','MI','MN','MO','NC','RI','TX','VT','VA','WA'],\n",
    "            'lenient':     ['AK','AL','AR','CO','CT','DC','LA','MS','SC','WI','WY','SD']\n",
    "        }\n",
    "    }"
   ]
  },
  {
   "cell_type": "code",
   "execution_count": 50,
   "id": "1a5ea3c1",
   "metadata": {},
   "outputs": [],
   "source": [
    "loc_map = {st: region for region, states in mapping['położenie'].items() for st in states}\n",
    "wealth_map = {st: grp for grp, states in mapping['zamożność'].items() for st in states}\n",
    "law_map = {st: grp for grp, states in mapping['prawo_kredytowe'].items() for st in states}"
   ]
  },
  {
   "cell_type": "code",
   "execution_count": 51,
   "id": "7187b218",
   "metadata": {},
   "outputs": [],
   "source": [
    "if 'address_state' in data.columns:\n",
    "    data['location'] = data['address_state'].map(loc_map)\n",
    "    data['wealth'] = data['address_state'].map(wealth_map)\n",
    "    data['law_regulations'] = data['address_state'].map(law_map)\n",
    "    data.drop(columns=['address_state'], inplace=True)"
   ]
  },
  {
   "cell_type": "code",
   "execution_count": 52,
   "id": "77d2fa2e",
   "metadata": {},
   "outputs": [],
   "source": [
    "### Redukcja ilości kategorii w zmiennej purpose"
   ]
  },
  {
   "cell_type": "code",
   "execution_count": 53,
   "id": "0bd61e4a",
   "metadata": {},
   "outputs": [],
   "source": [
    "top2 = data['purpose'].value_counts().nlargest(2).index\n",
    "data['purpose_grp'] = data['purpose'].where(data['purpose'].isin(top2), 'other')\n",
    "data.drop(columns=['purpose'], inplace=True)"
   ]
  },
  {
   "cell_type": "markdown",
   "id": "69628b34",
   "metadata": {},
   "source": [
    "### Kolumna term"
   ]
  },
  {
   "cell_type": "code",
   "execution_count": 54,
   "id": "aa98cf66",
   "metadata": {},
   "outputs": [],
   "source": [
    "data['60_month_term'] = (data['term']=='60 months').astype(int)\n",
    "data.drop(columns=['term'], inplace=True)"
   ]
  },
  {
   "cell_type": "markdown",
   "id": "0958084f",
   "metadata": {},
   "source": [
    "### Target"
   ]
  },
  {
   "cell_type": "code",
   "execution_count": 55,
   "id": "5cf49b4e",
   "metadata": {},
   "outputs": [],
   "source": [
    "data['charged_off'] = (data['loan_status'] == 'Charged Off').astype(int)\n",
    "X = data.drop(columns=['loan_status', 'charged_off'])\n",
    "y = data['charged_off']"
   ]
  },
  {
   "cell_type": "markdown",
   "id": "61b0fc1d",
   "metadata": {},
   "source": [
    "### Pipeline"
   ]
  },
  {
   "cell_type": "code",
   "execution_count": 56,
   "id": "7b92f0f5",
   "metadata": {},
   "outputs": [],
   "source": [
    "d_num = X.select_dtypes(include=['int64','float64']).columns.tolist()\n",
    "d_cat = X.select_dtypes(include=['object']).columns.tolist()\n",
    "if 'emp_length' in d_num:\n",
    "    d_num.remove('emp_length')\n",
    "\n",
    "transformers = []\n",
    "if d_num:\n",
    "    transformers.append(('num', Pipeline([\n",
    "        ('imp', SimpleImputer(strategy='median')),\n",
    "        ('sc', StandardScaler())\n",
    "    ]), d_num))\n",
    "if d_cat:\n",
    "    transformers.append(('cat', Pipeline([\n",
    "        ('imp', SimpleImputer(strategy='most_frequent')),\n",
    "        ('ohe', OneHotEncoder(handle_unknown='ignore', drop='first'))\n",
    "    ]), d_cat))\n",
    "if 'emp_length' in X.columns:\n",
    "    transformers.append(('emp', Pipeline([\n",
    "        ('imp', SimpleImputer(strategy='most_frequent')),\n",
    "        ('ord', OrdinalEncoder(categories=[[\n",
    "            '< 1 year','1 year','2 years','3 years','4 years','5 years',\n",
    "            '6 years','7 years','8 years','9 years','10+ years'\n",
    "        ]]))\n",
    "    ]), ['emp_length']))\n",
    "\n",
    "preprocessor = ColumnTransformer(transformers=transformers)"
   ]
  },
  {
   "cell_type": "markdown",
   "id": "36daaf63",
   "metadata": {},
   "source": [
    "### Połączenie z targetem i zapis"
   ]
  },
  {
   "cell_type": "code",
   "execution_count": 57,
   "id": "32e0c3d9",
   "metadata": {},
   "outputs": [],
   "source": [
    "X_proc = preprocessor.fit_transform(X)\n",
    "\n",
    "if hasattr(X_proc, 'toarray'):\n",
    "    df = pd.DataFrame(X_proc.toarray())\n",
    "else:\n",
    "    df = pd.DataFrame(X_proc)\n",
    "\n",
    "df['charged_off'] = y.values\n",
    "df.to_csv('loan_transformed.csv', index=False)"
   ]
  }
 ],
 "metadata": {
  "kernelspec": {
   "display_name": "base",
   "language": "python",
   "name": "python3"
  },
  "language_info": {
   "codemirror_mode": {
    "name": "ipython",
    "version": 3
   },
   "file_extension": ".py",
   "mimetype": "text/x-python",
   "name": "python",
   "nbconvert_exporter": "python",
   "pygments_lexer": "ipython3",
   "version": "3.12.7"
  }
 },
 "nbformat": 4,
 "nbformat_minor": 5
}
